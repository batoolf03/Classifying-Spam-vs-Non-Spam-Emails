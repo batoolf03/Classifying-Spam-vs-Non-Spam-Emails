{
 "cells": [
  {
   "cell_type": "markdown",
   "metadata": {},
   "source": [
    "###### Base Model EDA\n",
    "Before performing any analysis, we need to clean and transform the data. To do this, we drop the redundant variables in the dataset and use L1 for train, test and split. Moreover, some variables need to be normalized using StandardScaler. Once the aforementioned steps have been carried out, we can proceed. However, after executing each model, we need to determine the evaluation metric to be used. \n",
    "Using GridSearch for the best choice of hyperparameters, run different algorithms:\n",
    "\n",
    "- Logistic Regression\n",
    "- K-NN \n",
    "- Decision Tree Classifie\n",
    "- SVM Classification \n",
    "- Neural Network"
   ]
  },
  {
   "cell_type": "markdown",
   "metadata": {},
   "source": [
    "###### Algroithms considered - \n",
    "- Decision Tree: No need to do feature selection for DT as it automatically adjusts for outliers and picks the most relevant features \n",
    "- Logistic Regression: Drop variables that are highly vorrelated and then use the rest for L1 which will conduct feature selection automatically \n",
    "- KNN: Two way of going about KNN. i)Use Logistic regression's best output with the most relevant features selected. ii) execute one iteration with all features included\n",
    "- Neural Network: Same concept as knn - use random forest's best output and iterate again with max_features"
   ]
  },
  {
   "cell_type": "code",
   "execution_count": 15,
   "metadata": {},
   "outputs": [],
   "source": [
    "import pandas as pd\n",
    "from pandas import DataFrame\n",
    "import numpy as np\n",
    "\n",
    "path = 'C:/Users/Batool Fatima/Desktop/MSBA Fall 2019/MSBA 6420 - Predictive Analytics/'\n",
    "filecheck = pd.read_csv(path + 'spambase.names',skiprows =32, names = ['name','val1','val2'])\n",
    "colnames = filecheck.name.str.split(':',expand = True)[0]\n",
    "colnames = colnames.append(pd.Series('spam'))\n",
    "spam_data= pd.read_csv(path + \"spambase.data\", header = None, names = colnames)"
   ]
  },
  {
   "cell_type": "code",
   "execution_count": 16,
   "metadata": {},
   "outputs": [
    {
     "data": {
      "text/plain": [
       "(4601, 58)"
      ]
     },
     "execution_count": 16,
     "metadata": {},
     "output_type": "execute_result"
    }
   ],
   "source": [
    "spam_data.shape"
   ]
  },
  {
   "cell_type": "code",
   "execution_count": 18,
   "metadata": {},
   "outputs": [
    {
     "data": {
      "text/plain": [
       "0    0.605955\n",
       "1    0.394045\n",
       "Name: spam, dtype: float64"
      ]
     },
     "execution_count": 18,
     "metadata": {},
     "output_type": "execute_result"
    }
   ],
   "source": [
    "spam_data['spam'].value_counts()/spam_data.shape[0]\n",
    "\n",
    "## we have seen from the documentation that there are no missing values"
   ]
  },
  {
   "cell_type": "code",
   "execution_count": 78,
   "metadata": {},
   "outputs": [
    {
     "data": {
      "text/html": [
       "<div>\n",
       "<style scoped>\n",
       "    .dataframe tbody tr th:only-of-type {\n",
       "        vertical-align: middle;\n",
       "    }\n",
       "\n",
       "    .dataframe tbody tr th {\n",
       "        vertical-align: top;\n",
       "    }\n",
       "\n",
       "    .dataframe thead th {\n",
       "        text-align: right;\n",
       "    }\n",
       "</style>\n",
       "<table border=\"1\" class=\"dataframe\">\n",
       "  <thead>\n",
       "    <tr style=\"text-align: right;\">\n",
       "      <th></th>\n",
       "      <th>word_freq_make</th>\n",
       "      <th>word_freq_address</th>\n",
       "      <th>word_freq_all</th>\n",
       "      <th>word_freq_3d</th>\n",
       "      <th>word_freq_our</th>\n",
       "      <th>word_freq_over</th>\n",
       "      <th>word_freq_remove</th>\n",
       "      <th>word_freq_internet</th>\n",
       "      <th>word_freq_order</th>\n",
       "      <th>word_freq_mail</th>\n",
       "      <th>...</th>\n",
       "      <th>char_freq_;</th>\n",
       "      <th>char_freq_(</th>\n",
       "      <th>char_freq_[</th>\n",
       "      <th>char_freq_!</th>\n",
       "      <th>char_freq_$</th>\n",
       "      <th>char_freq_#</th>\n",
       "      <th>capital_run_length_average</th>\n",
       "      <th>capital_run_length_longest</th>\n",
       "      <th>capital_run_length_total</th>\n",
       "      <th>spam</th>\n",
       "    </tr>\n",
       "  </thead>\n",
       "  <tbody>\n",
       "    <tr>\n",
       "      <th>word_freq_make</th>\n",
       "      <td>1.000000</td>\n",
       "      <td>-0.016759</td>\n",
       "      <td>0.065627</td>\n",
       "      <td>0.013273</td>\n",
       "      <td>0.023119</td>\n",
       "      <td>0.059674</td>\n",
       "      <td>0.007669</td>\n",
       "      <td>-0.003950</td>\n",
       "      <td>0.106263</td>\n",
       "      <td>0.041198</td>\n",
       "      <td>...</td>\n",
       "      <td>-0.026505</td>\n",
       "      <td>-0.021196</td>\n",
       "      <td>-0.033301</td>\n",
       "      <td>0.058292</td>\n",
       "      <td>0.117419</td>\n",
       "      <td>-0.008844</td>\n",
       "      <td>0.044491</td>\n",
       "      <td>0.061382</td>\n",
       "      <td>0.089165</td>\n",
       "      <td>0.126208</td>\n",
       "    </tr>\n",
       "    <tr>\n",
       "      <th>word_freq_address</th>\n",
       "      <td>-0.016759</td>\n",
       "      <td>1.000000</td>\n",
       "      <td>-0.033526</td>\n",
       "      <td>-0.006923</td>\n",
       "      <td>-0.023760</td>\n",
       "      <td>-0.024840</td>\n",
       "      <td>0.003918</td>\n",
       "      <td>-0.016280</td>\n",
       "      <td>-0.003826</td>\n",
       "      <td>0.032962</td>\n",
       "      <td>...</td>\n",
       "      <td>-0.007282</td>\n",
       "      <td>-0.049837</td>\n",
       "      <td>-0.018527</td>\n",
       "      <td>-0.014461</td>\n",
       "      <td>-0.009605</td>\n",
       "      <td>0.001946</td>\n",
       "      <td>0.002083</td>\n",
       "      <td>0.000271</td>\n",
       "      <td>-0.022680</td>\n",
       "      <td>-0.030224</td>\n",
       "    </tr>\n",
       "    <tr>\n",
       "      <th>word_freq_all</th>\n",
       "      <td>0.065627</td>\n",
       "      <td>-0.033526</td>\n",
       "      <td>1.000000</td>\n",
       "      <td>-0.020246</td>\n",
       "      <td>0.077734</td>\n",
       "      <td>0.087564</td>\n",
       "      <td>0.036677</td>\n",
       "      <td>0.012003</td>\n",
       "      <td>0.093786</td>\n",
       "      <td>0.032075</td>\n",
       "      <td>...</td>\n",
       "      <td>-0.033213</td>\n",
       "      <td>-0.016495</td>\n",
       "      <td>-0.033120</td>\n",
       "      <td>0.108140</td>\n",
       "      <td>0.087618</td>\n",
       "      <td>-0.003336</td>\n",
       "      <td>0.097398</td>\n",
       "      <td>0.107463</td>\n",
       "      <td>0.070114</td>\n",
       "      <td>0.196988</td>\n",
       "    </tr>\n",
       "    <tr>\n",
       "      <th>word_freq_3d</th>\n",
       "      <td>0.013273</td>\n",
       "      <td>-0.006923</td>\n",
       "      <td>-0.020246</td>\n",
       "      <td>1.000000</td>\n",
       "      <td>0.003238</td>\n",
       "      <td>-0.010014</td>\n",
       "      <td>0.019784</td>\n",
       "      <td>0.010268</td>\n",
       "      <td>-0.002454</td>\n",
       "      <td>-0.004947</td>\n",
       "      <td>...</td>\n",
       "      <td>-0.000591</td>\n",
       "      <td>-0.012370</td>\n",
       "      <td>-0.007148</td>\n",
       "      <td>-0.003138</td>\n",
       "      <td>0.010862</td>\n",
       "      <td>-0.000298</td>\n",
       "      <td>0.005260</td>\n",
       "      <td>0.022081</td>\n",
       "      <td>0.021369</td>\n",
       "      <td>0.057371</td>\n",
       "    </tr>\n",
       "    <tr>\n",
       "      <th>word_freq_our</th>\n",
       "      <td>0.023119</td>\n",
       "      <td>-0.023760</td>\n",
       "      <td>0.077734</td>\n",
       "      <td>0.003238</td>\n",
       "      <td>1.000000</td>\n",
       "      <td>0.054054</td>\n",
       "      <td>0.147336</td>\n",
       "      <td>0.029598</td>\n",
       "      <td>0.020823</td>\n",
       "      <td>0.034495</td>\n",
       "      <td>...</td>\n",
       "      <td>-0.032759</td>\n",
       "      <td>-0.046361</td>\n",
       "      <td>-0.026390</td>\n",
       "      <td>0.025509</td>\n",
       "      <td>0.041582</td>\n",
       "      <td>0.002016</td>\n",
       "      <td>0.052662</td>\n",
       "      <td>0.052290</td>\n",
       "      <td>0.002492</td>\n",
       "      <td>0.241920</td>\n",
       "    </tr>\n",
       "  </tbody>\n",
       "</table>\n",
       "<p>5 rows × 58 columns</p>\n",
       "</div>"
      ],
      "text/plain": [
       "                   word_freq_make  word_freq_address  word_freq_all  \\\n",
       "word_freq_make           1.000000          -0.016759       0.065627   \n",
       "word_freq_address       -0.016759           1.000000      -0.033526   \n",
       "word_freq_all            0.065627          -0.033526       1.000000   \n",
       "word_freq_3d             0.013273          -0.006923      -0.020246   \n",
       "word_freq_our            0.023119          -0.023760       0.077734   \n",
       "\n",
       "                   word_freq_3d  word_freq_our  word_freq_over  \\\n",
       "word_freq_make         0.013273       0.023119        0.059674   \n",
       "word_freq_address     -0.006923      -0.023760       -0.024840   \n",
       "word_freq_all         -0.020246       0.077734        0.087564   \n",
       "word_freq_3d           1.000000       0.003238       -0.010014   \n",
       "word_freq_our          0.003238       1.000000        0.054054   \n",
       "\n",
       "                   word_freq_remove  word_freq_internet  word_freq_order  \\\n",
       "word_freq_make             0.007669           -0.003950         0.106263   \n",
       "word_freq_address          0.003918           -0.016280        -0.003826   \n",
       "word_freq_all              0.036677            0.012003         0.093786   \n",
       "word_freq_3d               0.019784            0.010268        -0.002454   \n",
       "word_freq_our              0.147336            0.029598         0.020823   \n",
       "\n",
       "                   word_freq_mail  ...  char_freq_;  char_freq_(  char_freq_[  \\\n",
       "word_freq_make           0.041198  ...    -0.026505    -0.021196    -0.033301   \n",
       "word_freq_address        0.032962  ...    -0.007282    -0.049837    -0.018527   \n",
       "word_freq_all            0.032075  ...    -0.033213    -0.016495    -0.033120   \n",
       "word_freq_3d            -0.004947  ...    -0.000591    -0.012370    -0.007148   \n",
       "word_freq_our            0.034495  ...    -0.032759    -0.046361    -0.026390   \n",
       "\n",
       "                   char_freq_!  char_freq_$  char_freq_#  \\\n",
       "word_freq_make        0.058292     0.117419    -0.008844   \n",
       "word_freq_address    -0.014461    -0.009605     0.001946   \n",
       "word_freq_all         0.108140     0.087618    -0.003336   \n",
       "word_freq_3d         -0.003138     0.010862    -0.000298   \n",
       "word_freq_our         0.025509     0.041582     0.002016   \n",
       "\n",
       "                   capital_run_length_average  capital_run_length_longest  \\\n",
       "word_freq_make                       0.044491                    0.061382   \n",
       "word_freq_address                    0.002083                    0.000271   \n",
       "word_freq_all                        0.097398                    0.107463   \n",
       "word_freq_3d                         0.005260                    0.022081   \n",
       "word_freq_our                        0.052662                    0.052290   \n",
       "\n",
       "                   capital_run_length_total      spam  \n",
       "word_freq_make                     0.089165  0.126208  \n",
       "word_freq_address                 -0.022680 -0.030224  \n",
       "word_freq_all                      0.070114  0.196988  \n",
       "word_freq_3d                       0.021369  0.057371  \n",
       "word_freq_our                      0.002492  0.241920  \n",
       "\n",
       "[5 rows x 58 columns]"
      ]
     },
     "execution_count": 78,
     "metadata": {},
     "output_type": "execute_result"
    }
   ],
   "source": [
    "spam_data.corr().head(5)"
   ]
  },
  {
   "cell_type": "code",
   "execution_count": 20,
   "metadata": {},
   "outputs": [],
   "source": [
    "from  sklearn.model_selection import train_test_split\n",
    "import matplotlib.pyplot as plt\n",
    "from sklearn.model_selection import train_test_split\n",
    "from sklearn.metrics import roc_auc_score, accuracy_score, make_scorer\n",
    "from sklearn import neighbors\n",
    "from sklearn.preprocessing import StandardScaler\n",
    "from sklearn.neighbors import KNeighborsClassifier\n",
    "from sklearn.model_selection import GridSearchCV, cross_val_score, KFold\n",
    "from sklearn.tree import DecisionTreeClassifier\n",
    "from sklearn.linear_model import LogisticRegression\n",
    "from keras.models import Sequential\n",
    "from keras.layers import Dense\n",
    "from keras.wrappers.scikit_learn import KerasRegressor\n",
    "from sklearn.ensemble import RandomForestRegressor\n",
    "import warnings; warnings.simplefilter('ignore')\n",
    "## Plotting Learning Curves\n",
    "from sklearn.model_selection import learning_curve\n"
   ]
  },
  {
   "cell_type": "code",
   "execution_count": 22,
   "metadata": {},
   "outputs": [],
   "source": [
    "spam_data_y = spam_data.iloc[:,57].values\n",
    "spam_data_x = spam_data.iloc[:,0:57].values\n",
    "x_train,x_test,y_train,y_test = train_test_split(spam_data_x, spam_data_y, test_size = 0.2, \n",
    "                                                 random_state = 123,stratify = spam_data_y)\n",
    "normalise = StandardScaler()\n",
    "normalise.fit(x_train)\n",
    "x_train = normalise.transform(x_train)\n",
    "x_test = normalise.transform(x_test)"
   ]
  },
  {
   "cell_type": "markdown",
   "metadata": {},
   "source": [
    "Decision Tree"
   ]
  },
  {
   "cell_type": "code",
   "execution_count": 62,
   "metadata": {},
   "outputs": [
    {
     "data": {
      "text/plain": [
       "{'max_depth': 30, 'min_samples_leaf': 10}"
      ]
     },
     "execution_count": 62,
     "metadata": {},
     "output_type": "execute_result"
    }
   ],
   "source": [
    "# Decision Tree\n",
    "depth={\"max_depth\":[1,10,20,30,40,50],\n",
    "       \"min_samples_leaf\" : [10,20,30]}       \n",
    "\n",
    "tree=DecisionTreeClassifier()\n",
    "\n",
    "grid_dt=GridSearchCV(tree,param_grid=depth , cv=4, scoring= make_scorer(roc_auc_score))\n",
    "grid_dt.fit(x_train,y_train) \n",
    "dt_result =pd.DataFrame(grid_dt.cv_results_)\n",
    "grid_dt.best_params_"
   ]
  },
  {
   "cell_type": "code",
   "execution_count": 63,
   "metadata": {},
   "outputs": [
    {
     "data": {
      "image/png": "[encoded data removed]",
      "text/plain": [
       "<Figure size 432x288 with 1 Axes>"
      ]
     },
     "metadata": {
      "needs_background": "light"
     },
     "output_type": "display_data"
    }
   ],
   "source": [
    "plot_results( grid_dt ,par_1 = \"max_depth\",par_2 = \"min_samples_leaf\", \n",
    "             title = \"Decision Tree Hyperparameter Tuning\",\n",
    "             y_lab= \"AUROC\")"
   ]
  },
  {
   "cell_type": "code",
   "execution_count": 65,
   "metadata": {},
   "outputs": [],
   "source": [
    "dec_tree = DecisionTreeClassifier(**grid_dt.best_params_)\n",
    "dec_tree.fit(x_train, y_train)\n",
    "y_pred_dt = dec_tree.predict_proba(x_test)[:,1]"
   ]
  },
  {
   "cell_type": "code",
   "execution_count": 67,
   "metadata": {},
   "outputs": [
    {
     "data": {
      "text/plain": [
       "0.9438717576547491"
      ]
     },
     "execution_count": 67,
     "metadata": {},
     "output_type": "execute_result"
    }
   ],
   "source": [
    "roc_auc_score(y_test,y_pred_dt)"
   ]
  },
  {
   "cell_type": "markdown",
   "metadata": {},
   "source": [
    "Logistic Regression"
   ]
  },
  {
   "cell_type": "code",
   "execution_count": 26,
   "metadata": {},
   "outputs": [],
   "source": [
    "spam_log = spam_data.copy()\n",
    "spam_log.drop(columns = ['word_freq_direct','word_freq_415','word_freq_telnet'], inplace = True)\n",
    "spam_data_y = spam_log.iloc[:,54].values\n",
    "spam_data_x = spam_log.iloc[:,0:54].values\n",
    "x_train,x_test,y_train,y_test = train_test_split(spam_data_x, spam_data_y, test_size = 0.2, \n",
    "                                                 random_state = 123,stratify = spam_data_y)\n",
    "normalise = StandardScaler()\n",
    "normalise.fit(x_train)\n",
    "x_train = normalise.transform(x_train)\n",
    "x_test = normalise.transform(x_test)"
   ]
  },
  {
   "cell_type": "code",
   "execution_count": 27,
   "metadata": {},
   "outputs": [
    {
     "data": {
      "text/plain": [
       "(4601, 55)"
      ]
     },
     "execution_count": 27,
     "metadata": {},
     "output_type": "execute_result"
    }
   ],
   "source": [
    "# L1 penalty \n",
    "spam_log.shape"
   ]
  },
  {
   "cell_type": "code",
   "execution_count": 28,
   "metadata": {},
   "outputs": [
    {
     "data": {
      "text/plain": [
       "{'C': 10}"
      ]
     },
     "execution_count": 28,
     "metadata": {},
     "output_type": "execute_result"
    }
   ],
   "source": [
    "c_vals={\"C\":[0.001,0.01,1,10]}       \n",
    "\n",
    "log=LogisticRegression(penalty = 'l1')\n",
    "\n",
    "grid_log=GridSearchCV(log,param_grid=c_vals , cv=4, scoring= make_scorer(roc_auc_score))\n",
    "grid_log.fit(x_train,y_train) \n",
    "log_result =pd.DataFrame(grid_log.cv_results_)\n",
    "grid_log.best_params_"
   ]
  },
  {
   "cell_type": "code",
   "execution_count": 34,
   "metadata": {},
   "outputs": [],
   "source": [
    "finallog = LogisticRegression(**grid_log.best_params_)\n",
    "finallog.fit(x_train, y_train)\n",
    "y_pred_finallog = finallog.predict_proba(x_test)[:,1]"
   ]
  },
  {
   "cell_type": "code",
   "execution_count": 58,
   "metadata": {},
   "outputs": [
    {
     "data": {
      "text/plain": [
       "0.9731824599859791"
      ]
     },
     "execution_count": 58,
     "metadata": {},
     "output_type": "execute_result"
    }
   ],
   "source": [
    "roc_auc_score(y_test,y_pred_finallog)"
   ]
  },
  {
   "cell_type": "code",
   "execution_count": 31,
   "metadata": {},
   "outputs": [
    {
     "data": {
      "text/plain": [
       "array([[-9.14489467e-02, -1.93242408e-01,  7.94637540e-02,\n",
       "         1.72430900e+00,  2.93352933e-01,  2.96204253e-01,\n",
       "         9.22593129e-01,  2.52152838e-01,  1.18637553e-01,\n",
       "         8.63417048e-02, -3.33731144e-02, -1.28630659e-01,\n",
       "         6.71030238e-03,  4.15149189e-02,  5.07494570e-01,\n",
       "         1.03836707e+00,  4.23268528e-01,  5.47498770e-02,\n",
       "         1.50018119e-01,  8.85223949e-01,  2.64008068e-01,\n",
       "         2.49867934e-01,  6.78304047e-01,  1.94517651e-01,\n",
       "        -3.48991345e+00, -7.23968772e-01, -1.16195260e+01,\n",
       "         1.51896125e-01, -1.41802125e+00, -1.19561015e-01,\n",
       "         2.27747527e-01, -4.38356288e-01, -9.61103385e-01,\n",
       "         4.65424794e-01, -1.37245721e-02, -1.66297890e-01,\n",
       "        -2.85337155e-01, -4.47885730e+00, -1.56707272e+00,\n",
       "        -2.99338540e-01, -1.38194623e+00, -7.77878831e-01,\n",
       "        -1.31228070e+00, -2.62418618e-01, -8.08004648e-01,\n",
       "        -3.72175149e-01, -7.62283600e-02, -7.50454999e-02,\n",
       "         2.62037116e-01,  1.07872927e+00,  1.38664037e+00,\n",
       "        -2.16059295e-01,  1.11377060e+00,  4.87442586e-01]])"
      ]
     },
     "execution_count": 31,
     "metadata": {},
     "output_type": "execute_result"
    }
   ],
   "source": [
    "finallog.coef_"
   ]
  },
  {
   "cell_type": "code",
   "execution_count": 35,
   "metadata": {},
   "outputs": [
    {
     "data": {
      "text/plain": [
       "array([1.59813842e-09, 9.99906921e-01, 8.31614578e-01, 8.12170672e-02,\n",
       "       1.19538972e-04, 1.21617690e-30, 1.31069221e-03, 1.86921113e-01,\n",
       "       1.83355176e-01, 1.07247793e-02, 2.84184733e-01, 3.84772741e-03,\n",
       "       9.69459841e-01, 9.98661913e-01, 2.46365854e-07, 9.99971552e-01,\n",
       "       9.76238363e-01, 9.80813227e-01, 4.00419144e-03, 9.99911535e-01,\n",
       "       1.44754487e-09, 9.89195629e-01, 3.61600612e-13, 8.07394147e-05,\n",
       "       2.47042315e-22, 2.34437216e-09, 1.57947757e-01, 9.92075863e-01,\n",
       "       4.88572122e-01, 9.99999858e-01, 1.82314638e-02, 1.57249094e-05,\n",
       "       7.82530244e-01, 8.30550397e-01, 9.41411596e-01, 8.58242398e-01,\n",
       "       1.21617690e-30, 2.89846980e-01, 1.37106620e-01, 9.99998961e-01,\n",
       "       7.23725249e-01, 9.89447057e-01, 7.00740317e-01, 1.21714191e-30,\n",
       "       8.04508616e-01, 4.53829869e-10, 4.97865394e-01, 9.52289945e-01,\n",
       "       2.54694876e-01, 1.16274732e-01, 2.34460423e-01, 9.99346332e-01,\n",
       "       5.73529591e-01, 2.00212469e-04, 1.96873145e-03, 4.51095462e-01,\n",
       "       1.81174521e-01, 1.02407335e-02, 3.29063442e-02, 9.99995461e-01,\n",
       "       1.84649550e-01, 3.31704498e-02, 9.99997532e-01, 1.63368250e-01,\n",
       "       3.50699669e-01, 9.97289988e-01, 1.51661277e-02, 2.27950825e-01,\n",
       "       3.72308561e-01, 5.94163493e-01, 9.98764023e-01, 4.72407236e-03,\n",
       "       2.29367712e-01, 9.76200019e-01, 1.12476032e-02, 3.83510564e-02,\n",
       "       6.61069448e-01, 9.99594859e-01, 1.21456073e-01, 2.92126889e-05,\n",
       "       7.30970934e-03, 9.99998448e-01, 8.29222115e-01, 4.92732327e-01,\n",
       "       1.52410200e-01, 1.26939508e-02, 3.42035928e-15, 4.86154546e-01,\n",
       "       9.69666960e-01, 5.37299904e-07, 7.39715633e-08, 1.27608172e-04,\n",
       "       9.77328302e-01, 5.17238488e-01, 4.21305963e-01, 3.45670729e-01,\n",
       "       1.00000000e+00, 2.40522260e-01, 1.86025460e-04, 8.53875508e-05,\n",
       "       7.91891732e-01, 5.09738758e-02, 7.62889162e-01, 8.35264657e-01,\n",
       "       9.98601168e-02, 2.31731412e-06, 2.25703571e-02, 9.96552686e-01,\n",
       "       8.50519273e-01, 9.98456755e-01, 1.00000000e+00, 7.67721581e-01,\n",
       "       8.70088465e-01, 2.02130326e-06, 1.36472806e-07, 9.97957893e-01,\n",
       "       2.26499081e-04, 5.53391623e-13, 8.55716919e-01, 3.95513810e-19,\n",
       "       3.70729004e-01, 1.40485564e-06, 8.66894720e-01, 9.49015124e-01,\n",
       "       7.08804870e-01, 9.91418857e-01, 7.15376732e-02, 3.16446631e-01,\n",
       "       1.73962356e-04, 6.64815246e-01, 7.79213911e-01, 9.38731133e-02,\n",
       "       1.88064312e-01, 8.77693562e-01, 2.20650477e-01, 9.72767188e-02,\n",
       "       6.04364247e-23, 5.48444334e-01, 1.87148261e-03, 9.85466600e-01,\n",
       "       9.99464568e-01, 1.14276075e-07, 3.62632929e-05, 7.92970462e-01,\n",
       "       6.98506687e-03, 2.68949838e-02, 5.41601179e-02, 8.83035304e-03,\n",
       "       2.11906979e-01, 4.27041580e-09, 4.79411998e-02, 3.33500797e-03,\n",
       "       4.77229421e-01, 1.87092223e-01, 2.20101829e-03, 3.48561116e-03,\n",
       "       1.82674599e-01, 7.69376610e-01, 1.81174521e-01, 6.03931463e-02,\n",
       "       6.21981730e-01, 1.26349806e-10, 3.98788252e-01, 9.98390944e-01,\n",
       "       1.81174521e-01, 4.53931390e-03, 1.07739017e-05, 2.08235098e-02,\n",
       "       3.67076755e-06, 8.51183324e-01, 9.95229730e-01, 9.99999712e-01,\n",
       "       6.44078148e-09, 1.40342762e-02, 7.90936517e-02, 6.37119455e-12,\n",
       "       6.54186863e-02, 9.98828278e-01, 9.82695916e-01, 9.98076131e-01,\n",
       "       9.99986753e-01, 1.32940173e-01, 9.99268270e-01, 9.68748180e-01,\n",
       "       5.89296187e-03, 9.45186755e-01, 8.64288394e-02, 8.38588362e-04,\n",
       "       5.87066111e-01, 9.99999156e-01, 6.45443913e-03, 4.15506912e-04,\n",
       "       9.91720695e-08, 9.96501803e-01, 9.99996853e-01, 1.28748015e-22,\n",
       "       9.30686475e-01, 3.63653054e-02, 1.20485655e-02, 1.21174101e-03,\n",
       "       1.06834224e-01, 1.27243401e-02, 8.31353735e-02, 2.33382802e-20,\n",
       "       5.54163115e-09, 8.61195743e-01, 9.73009802e-01, 4.66488170e-04,\n",
       "       9.99939438e-01, 9.13033922e-01, 7.69676348e-04, 9.66147195e-01,\n",
       "       3.63009013e-03, 4.96472794e-01, 2.15940482e-07, 9.80680418e-02,\n",
       "       9.02485113e-01, 6.84922117e-01, 8.46113050e-06, 9.94244330e-01,\n",
       "       6.92894324e-02, 2.55562715e-02, 9.94332451e-01, 1.70648695e-03,\n",
       "       1.44971508e-03, 9.58111742e-01, 5.42255974e-05, 9.98171126e-01,\n",
       "       1.70355274e-11, 6.50012277e-03, 4.62293871e-03, 7.77109619e-11,\n",
       "       7.79403399e-01, 1.81174521e-01, 6.88526418e-01, 5.86523841e-01,\n",
       "       3.36655398e-09, 9.38594511e-01, 1.42300259e-01, 1.82266600e-01,\n",
       "       1.48473141e-09, 9.99765939e-01, 3.23973162e-22, 4.77222746e-01,\n",
       "       9.97347536e-01, 6.82879235e-03, 5.45463213e-01, 6.65235268e-08,\n",
       "       9.98078427e-01, 7.25721600e-02, 3.46425756e-04, 9.77209746e-01,\n",
       "       3.21345761e-03, 3.12194669e-47, 3.94240634e-01, 4.00401805e-01,\n",
       "       2.39999257e-01, 9.20451116e-01, 3.97407813e-02, 1.02130114e-01,\n",
       "       1.34063613e-01, 3.17846389e-01, 1.81174521e-01, 6.53642198e-05,\n",
       "       2.06248729e-11, 1.23761441e-03, 5.40236220e-01, 9.54774862e-01,\n",
       "       8.85405437e-01, 4.47089572e-11, 1.17733815e-01, 9.99889385e-01,\n",
       "       6.04953790e-11, 9.95762244e-01, 2.68949838e-02, 9.06025780e-01,\n",
       "       5.01572769e-04, 6.07848715e-04, 9.51447824e-01, 9.33050411e-01,\n",
       "       1.21617690e-30, 9.98300966e-01, 7.59412213e-01, 9.98754174e-01,\n",
       "       7.18701999e-01, 1.11485532e-06, 7.64903635e-01, 3.44713591e-10,\n",
       "       9.98474397e-01, 5.98580082e-03, 1.09058115e-06, 4.79477076e-03,\n",
       "       8.70088465e-01, 1.59023381e-04, 2.49025873e-01, 4.96221972e-10,\n",
       "       9.79378400e-01, 1.82362609e-01, 8.22673557e-01, 2.11430564e-05,\n",
       "       5.32236612e-02, 4.59141128e-01, 2.91305556e-01, 5.62495063e-19,\n",
       "       1.26107196e-01, 9.99609063e-01, 1.65998645e-03, 6.49420953e-04,\n",
       "       9.55805480e-01, 3.15305011e-02, 6.59834222e-01, 1.83715505e-09,\n",
       "       9.31573522e-01, 8.27653302e-01, 2.91492127e-03, 1.60880603e-02,\n",
       "       9.54136084e-01, 2.48474490e-01, 9.42554326e-02, 1.35700540e-02,\n",
       "       5.82765544e-03, 1.87188856e-07, 2.47011017e-01, 1.54080921e-04,\n",
       "       5.51245247e-02, 9.99557813e-01, 2.50423256e-05, 8.58349883e-05,\n",
       "       2.54836560e-10, 8.95701121e-01, 4.34810461e-01, 4.35230557e-01,\n",
       "       1.94748787e-01, 5.25458222e-03, 4.26707980e-05, 5.01722884e-01,\n",
       "       8.85133880e-01, 6.51876958e-07, 1.85217309e-01, 7.83613334e-01,\n",
       "       9.97755716e-01, 1.25987215e-06, 2.52215877e-03, 1.31287619e-02,\n",
       "       1.82574666e-01, 6.03951772e-05, 3.54101461e-02, 9.99795978e-01,\n",
       "       8.09769248e-01, 9.99842526e-01, 1.25772285e-03, 2.72891191e-10,\n",
       "       1.66134801e-01, 8.05778864e-03, 9.56228237e-01, 8.35905934e-01,\n",
       "       9.61134562e-01, 2.40562493e-08, 1.87208484e-01, 8.85659346e-01,\n",
       "       3.09074702e-03, 9.36519034e-26, 1.55948373e-01, 1.61122684e-01,\n",
       "       1.52899785e-05, 3.77501576e-04, 9.53658051e-03, 3.61338871e-01,\n",
       "       3.40918494e-06, 1.58737583e-03, 4.14647887e-02, 5.97466585e-04,\n",
       "       9.15252589e-04, 2.99505573e-05, 3.02973615e-01, 3.96274668e-01,\n",
       "       3.04471440e-01, 9.36473638e-01, 4.91476210e-04, 4.44431287e-23,\n",
       "       1.13025899e-01, 9.80198983e-01, 5.80415282e-06, 7.72595778e-05,\n",
       "       3.20831184e-03, 9.68239467e-03, 1.77076140e-05, 5.66476359e-06,\n",
       "       1.58408775e-05, 1.96378279e-06, 2.85011401e-03, 9.96292414e-01,\n",
       "       9.64120972e-01, 2.68949838e-02, 9.53653539e-01, 3.57613265e-01,\n",
       "       3.04040039e-02, 1.63068004e-01, 1.03313203e-09, 5.18821952e-07,\n",
       "       6.24994812e-03, 9.99890240e-01, 9.84418953e-01, 1.94369487e-01,\n",
       "       6.06036420e-07, 1.21617690e-30, 9.29080690e-01, 6.36582159e-06,\n",
       "       8.54850210e-01, 2.34563205e-01, 6.18639647e-05, 8.80579036e-01,\n",
       "       8.58897165e-02, 3.00454305e-01, 5.70786836e-01, 1.21617690e-30,\n",
       "       1.76029848e-01, 8.48621369e-01, 5.17829811e-01, 2.94121714e-06,\n",
       "       1.06629641e-02, 9.99979799e-01, 8.11981922e-05, 9.99999616e-01,\n",
       "       9.99208985e-01, 9.92428718e-01, 2.37441767e-02, 3.00026363e-01,\n",
       "       1.09904226e-01, 3.69648488e-03, 1.02359164e-01, 1.71624011e-06,\n",
       "       1.10305881e-01, 3.90180519e-02, 9.51369279e-01, 1.47854140e-01,\n",
       "       8.77418896e-01, 9.99998380e-01, 3.57245906e-03, 2.35296331e-01,\n",
       "       5.42147042e-04, 2.58515413e-01, 1.94000515e-01, 8.10884671e-01,\n",
       "       1.94502095e-02, 1.52050633e-01, 9.97374884e-01, 1.21617690e-30,\n",
       "       2.60438228e-03, 2.56173762e-03, 1.27261349e-01, 6.76494575e-06,\n",
       "       1.82266600e-01, 8.56977525e-01, 9.99979809e-01, 1.21617690e-30,\n",
       "       4.60108322e-01, 6.75193113e-02, 9.97455589e-01, 5.60066822e-02,\n",
       "       1.21617690e-30, 3.87233126e-06, 9.63926242e-01, 9.96907441e-01,\n",
       "       1.85069725e-01, 4.29868525e-09, 5.09497457e-01, 9.65951792e-01,\n",
       "       1.21184958e-05, 4.79186417e-01, 2.31615931e-01, 2.15407998e-05,\n",
       "       1.78078142e-22, 3.16345275e-52, 3.12819549e-10, 7.56151915e-02,\n",
       "       2.09484302e-01, 1.80196379e-01, 8.94625237e-01, 2.85723330e-08,\n",
       "       3.27025902e-14, 5.94186958e-38, 9.99282482e-01, 1.21617690e-30,\n",
       "       1.30638101e-02, 4.69105547e-01, 6.01395815e-12, 7.92598287e-05,\n",
       "       9.99992192e-01, 1.16787700e-05, 8.18860162e-04, 2.09877720e-02,\n",
       "       5.12946905e-01, 1.21666008e-08, 2.68949838e-02, 3.20575220e-17,\n",
       "       6.92651939e-02, 1.08553669e-03, 1.14270270e-02, 1.82809785e-01,\n",
       "       9.00587612e-01, 1.27100129e-05, 2.95614637e-01, 5.63393648e-01,\n",
       "       9.99968393e-01, 2.73364359e-01, 1.01300640e-15, 8.48435350e-01,\n",
       "       1.82266600e-01, 5.46702127e-01, 2.68592148e-02, 4.64507323e-02,\n",
       "       2.74857466e-02, 9.54425724e-01, 2.24838097e-01, 1.61807469e-01,\n",
       "       4.44859433e-01, 8.95551856e-01, 1.70613919e-03, 5.05767003e-03,\n",
       "       1.59657845e-01, 3.88169236e-07, 2.27540786e-01, 8.77418896e-01,\n",
       "       5.41845681e-02, 9.75314243e-01, 2.89255554e-06, 1.83399915e-01,\n",
       "       5.34497367e-01, 1.30500952e-02, 8.81723217e-01, 1.12090870e-06,\n",
       "       6.00550897e-02, 9.84369767e-01, 2.00013039e-04, 9.99975452e-01,\n",
       "       9.99608495e-01, 9.99940302e-01, 3.54347997e-01, 5.24055980e-03,\n",
       "       1.63247453e-15, 1.00000000e+00, 2.37271952e-01, 1.66346296e-17,\n",
       "       9.99766546e-01, 6.08639503e-01, 6.47843233e-01, 3.43055939e-01,\n",
       "       4.16751958e-02, 8.81959296e-01, 9.99435200e-01, 1.81292217e-01,\n",
       "       9.80678394e-01, 6.06358664e-04, 6.28966956e-03, 4.93225542e-01,\n",
       "       2.02677914e-01, 7.92304221e-02, 9.74142110e-01, 4.46000419e-05,\n",
       "       1.49854673e-05, 9.99866260e-01, 1.89801476e-01, 1.06920132e-01,\n",
       "       3.35668038e-01, 1.27619021e-01, 9.77336175e-01, 8.01970466e-01,\n",
       "       4.03002978e-09, 9.98386060e-01, 2.65265493e-01, 9.99969265e-01,\n",
       "       9.20229549e-01, 9.89548408e-01, 9.89894256e-01, 5.90590812e-03,\n",
       "       6.04729025e-01, 9.99997608e-01, 3.29557886e-12, 9.99996726e-01,\n",
       "       2.60620087e-01, 2.29475342e-01, 1.82228524e-01, 9.91264848e-01,\n",
       "       5.94633965e-05, 3.18891587e-01, 9.62976216e-01, 9.99999977e-01,\n",
       "       1.44549300e-03, 6.90270285e-02, 5.04062908e-02, 5.90709399e-38,\n",
       "       1.82106654e-01, 4.68340511e-03, 1.82106654e-01, 2.35530883e-20,\n",
       "       3.15063432e-04, 8.37065019e-01, 9.99999507e-01, 1.36902102e-01,\n",
       "       3.75576760e-03, 2.81371501e-03, 2.50089203e-01, 7.97090346e-01,\n",
       "       9.99999999e-01, 9.97968335e-01, 1.39531901e-02, 5.14390141e-04,\n",
       "       1.49860056e-07, 7.32445657e-03, 1.81174521e-01, 7.54996795e-01,\n",
       "       3.51970746e-02, 8.04400682e-01, 3.93357026e-01, 9.83335485e-01,\n",
       "       9.63348961e-01, 1.26850249e-07, 8.70609265e-05, 9.50630049e-01,\n",
       "       9.81281824e-01, 9.52166152e-01, 1.94035581e-03, 9.41208366e-01,\n",
       "       1.64437506e-01, 6.52656442e-03, 1.63068004e-01, 2.88236021e-01,\n",
       "       9.60824904e-01, 3.47678090e-01, 9.99941412e-01, 6.04275572e-01,\n",
       "       1.14371772e-01, 9.61013859e-01, 9.24674744e-01, 8.73949288e-01,\n",
       "       9.54722512e-01, 8.54557847e-05, 2.24075987e-01, 9.99579231e-01,\n",
       "       7.47912481e-01, 5.38597749e-01, 4.33250354e-01, 9.99824432e-01,\n",
       "       2.74884062e-04, 9.99998412e-01, 3.15198005e-01, 9.97008620e-01,\n",
       "       2.72625879e-07, 5.52557665e-05, 9.99976522e-01, 1.87342010e-02,\n",
       "       8.36724814e-01, 8.37054305e-01, 4.71048874e-01, 7.48219192e-01,\n",
       "       8.86437444e-04, 4.06135731e-03, 1.87208484e-01, 1.39583664e-02,\n",
       "       9.99247326e-01, 1.98093505e-08, 2.32350047e-05, 8.05463569e-01,\n",
       "       9.66252901e-01, 6.34380579e-01, 9.99172474e-01, 7.65792527e-01,\n",
       "       5.49889914e-02, 3.80423483e-08, 5.73341336e-01, 3.60174254e-06,\n",
       "       3.84913827e-01, 1.06339516e-02, 7.35132512e-02, 9.96628179e-01,\n",
       "       9.19392927e-03, 3.12194669e-47, 8.27653302e-01, 1.83864149e-01,\n",
       "       1.78220489e-01, 1.20432824e-01, 9.91951076e-01, 1.07805789e-04,\n",
       "       1.44400277e-03, 6.47093552e-02, 9.86192168e-01, 1.49031360e-01,\n",
       "       3.85322226e-01, 9.98815569e-01, 9.50756908e-01, 2.32696983e-01,\n",
       "       9.99979357e-01, 9.99993560e-01, 4.09735569e-06, 9.98480674e-01,\n",
       "       9.97969065e-01, 8.77596134e-06, 3.56072699e-04, 4.07086370e-03,\n",
       "       1.37957688e-04, 1.81292217e-01, 9.72249327e-01, 2.72984314e-06,\n",
       "       1.30181242e-02, 1.48755598e-05, 9.86372563e-01, 3.90206700e-07,\n",
       "       9.96833461e-01, 9.00994187e-01, 1.01556861e-01, 9.32214394e-01,\n",
       "       4.79337791e-01, 1.78796583e-05, 8.31972039e-01, 9.13880061e-03,\n",
       "       1.10642048e-08, 7.21244326e-04, 1.72923352e-01, 7.57944254e-03,\n",
       "       2.27336839e-01, 9.63223779e-03, 7.57922578e-01, 9.39816857e-26,\n",
       "       5.26144442e-01, 3.04051909e-07, 4.33250354e-01, 1.68745938e-02,\n",
       "       1.41742751e-01, 9.99318947e-01, 9.99976188e-01, 1.21617690e-30,\n",
       "       9.96442513e-01, 9.82981578e-01, 8.06520408e-01, 8.27497804e-01,\n",
       "       1.39897950e-01, 9.92013711e-01, 5.72532239e-03, 2.85059836e-07,\n",
       "       9.99981964e-01, 1.00000000e+00, 1.39739539e-06, 5.22844124e-02,\n",
       "       9.99987520e-01, 2.49559872e-02, 9.99999670e-01, 7.50014995e-02,\n",
       "       4.23757759e-06, 2.36023606e-02, 1.62669179e-04, 9.94815124e-01,\n",
       "       7.48885813e-01, 4.35737597e-01, 9.99878062e-01, 9.17737198e-01,\n",
       "       1.67365122e-02, 2.67610530e-04, 2.22992506e-05, 5.69723011e-01,\n",
       "       7.99783513e-01, 9.98595490e-01, 2.84557642e-08, 2.84362441e-22,\n",
       "       2.76897073e-01, 1.77970127e-06, 9.64240933e-01, 9.99989836e-01,\n",
       "       5.69723011e-01, 3.00305288e-01, 9.78578133e-01, 2.60864932e-01,\n",
       "       7.82216606e-01, 9.99995035e-01, 1.04929270e-04, 5.74028207e-03,\n",
       "       9.99946251e-01, 2.20062659e-03, 2.89774158e-02, 7.43262560e-01,\n",
       "       9.99965337e-01, 9.99999999e-01, 7.68935265e-01, 1.81409973e-01,\n",
       "       1.30876494e-01, 9.37669219e-15, 9.46635338e-01, 9.98692488e-01,\n",
       "       4.54958263e-05, 9.99793098e-01, 7.77447710e-06, 6.91019650e-02,\n",
       "       9.41208366e-01, 6.87610305e-03, 9.52182591e-03, 9.99996842e-01,\n",
       "       6.16943418e-01, 9.45221029e-02, 3.07935595e-09, 9.92570485e-01,\n",
       "       5.88169895e-38, 1.72987767e-01, 9.99998884e-01, 9.92333359e-09,\n",
       "       9.22617480e-01, 4.89407838e-08, 1.90937998e-03, 1.81843980e-05,\n",
       "       9.99921379e-01, 1.90356479e-03, 5.57538543e-01, 9.11865999e-01,\n",
       "       2.34399085e-02, 7.55920758e-01, 9.99804567e-01, 4.43801937e-04,\n",
       "       9.39111781e-01, 7.51776144e-04, 3.46258845e-01, 9.99990597e-01,\n",
       "       6.88526418e-01, 9.71079811e-01, 7.86286802e-03, 1.30104465e-02,\n",
       "       4.22254742e-01, 1.38465319e-01, 9.99249593e-01, 9.98074409e-01,\n",
       "       9.96544219e-01, 9.84538627e-01, 5.81893050e-07, 1.81409973e-01,\n",
       "       2.58266245e-01, 8.33315432e-01, 9.99903612e-01, 4.81733596e-01,\n",
       "       2.67548454e-01, 1.10967500e-06, 7.30083706e-03, 6.51636658e-01,\n",
       "       9.98885731e-01, 2.27010545e-01, 9.91787279e-01, 1.25674748e-01,\n",
       "       9.98241012e-01, 7.82216291e-01, 4.62958105e-03, 8.29405334e-01,\n",
       "       3.89142997e-04, 2.97206978e-08, 1.40097422e-01, 1.21617690e-30,\n",
       "       2.68949838e-02, 5.87563773e-15, 6.87974575e-06, 7.57680448e-01,\n",
       "       6.75266827e-01, 7.96232724e-01, 9.99727980e-01, 4.70521022e-01,\n",
       "       9.99991205e-01, 1.04959570e-02, 9.99990375e-01, 9.90076188e-01,\n",
       "       5.01028689e-01, 2.35030978e-04, 2.21987605e-12, 9.34714321e-01,\n",
       "       1.11474566e-04, 9.97592685e-01, 9.83847522e-01, 8.86608963e-01,\n",
       "       3.43368128e-06, 1.82538216e-01, 9.02182834e-01, 2.68949838e-02,\n",
       "       2.05596318e-03, 9.30075543e-01, 1.45195720e-04, 9.43427329e-01,\n",
       "       5.98241734e-02, 6.72474581e-02, 7.65169912e-01, 9.99959157e-01,\n",
       "       7.73408468e-03, 6.12143988e-01, 1.21299511e-01, 2.75279693e-03,\n",
       "       7.80097938e-15, 1.41648021e-06, 4.48355913e-04, 1.31707412e-04,\n",
       "       9.60005983e-01, 7.05234371e-04, 6.95831857e-02, 9.90559530e-01,\n",
       "       9.02485113e-01, 3.56123026e-01, 9.99262795e-01, 9.89682346e-01,\n",
       "       6.17864056e-03, 6.73864063e-05, 3.46517498e-03, 4.35102766e-01,\n",
       "       7.45087470e-01, 1.06986090e-01, 9.99462489e-01, 9.19673439e-02,\n",
       "       2.28911998e-01, 9.93941446e-01, 6.55794654e-02, 3.75170077e-08,\n",
       "       2.19019222e-02, 9.13687789e-05, 9.99765939e-01, 6.98124168e-21,\n",
       "       2.15867561e-02, 4.20653541e-03, 9.81367786e-01, 3.57778309e-01,\n",
       "       9.99975421e-01])"
      ]
     },
     "execution_count": 35,
     "metadata": {},
     "output_type": "execute_result"
    }
   ],
   "source": [
    "y_pred_finallog"
   ]
  },
  {
   "cell_type": "markdown",
   "metadata": {},
   "source": [
    "K Nearest Neighbours"
   ]
  },
  {
   "cell_type": "code",
   "execution_count": 71,
   "metadata": {},
   "outputs": [
    {
     "data": {
      "text/plain": [
       "GridSearchCV(cv=4, error_score='raise-deprecating',\n",
       "             estimator=KNeighborsClassifier(algorithm='auto', leaf_size=30,\n",
       "                                            metric='minkowski',\n",
       "                                            metric_params=None, n_jobs=None,\n",
       "                                            n_neighbors=5, p=2,\n",
       "                                            weights='uniform'),\n",
       "             iid='warn', n_jobs=None,\n",
       "             param_grid={'n_neighbors': [1, 2, 3, 4, 5, 6, 7, 8, 9, 10, 11, 12,\n",
       "                                         13, 14, 15, 16, 17, 18, 19, 20, 21, 22,\n",
       "                                         23, 24, 25, 26, 27, 28, 29, 30],\n",
       "                         'weights': ['uniform', 'distance']},\n",
       "             pre_dispatch='2*n_jobs', refit=True, return_train_score=False,\n",
       "             scoring=make_scorer(roc_auc_score), verbose=0)"
      ]
     },
     "execution_count": 71,
     "metadata": {},
     "output_type": "execute_result"
    }
   ],
   "source": [
    "#KNN\n",
    "k_range = list(range(1,31))\n",
    "weight_options = [\"uniform\", \"distance\"]\n",
    "\n",
    "param_grid = dict(n_neighbors = k_range, weights = weight_options)\n",
    "#print (param_grid)\n",
    "knn = KNeighborsClassifier()\n",
    "\n",
    "normalise = StandardScaler()\n",
    "normalise.fit(x_train)\n",
    "x_train = normalise.transform(x_train)\n",
    "x_test = normalise.transform(x_test)\n",
    "\n",
    "grid_knn = GridSearchCV(knn, param_grid, cv = 4, scoring = make_scorer(roc_auc_score))\n",
    "grid_knn.fit(x_train,y_train)"
   ]
  },
  {
   "cell_type": "code",
   "execution_count": 73,
   "metadata": {},
   "outputs": [
    {
     "data": {
      "image/png": "[encoded data removed]",
      "text/plain": [
       "<Figure size 432x288 with 1 Axes>"
      ]
     },
     "metadata": {
      "needs_background": "light"
     },
     "output_type": "display_data"
    }
   ],
   "source": [
    "plot_results(grid_knn ,par_1 = \"n_neighbors\",par_2 = \"weights\", title = \"KNN Hyper Parameters Tuning\", y_lab= \"F Score\")\n"
   ]
  },
  {
   "cell_type": "code",
   "execution_count": 74,
   "metadata": {},
   "outputs": [
    {
     "data": {
      "text/plain": [
       "{'n_neighbors': 6, 'weights': 'distance'}"
      ]
     },
     "execution_count": 74,
     "metadata": {},
     "output_type": "execute_result"
    }
   ],
   "source": [
    "grid_knn.best_params_"
   ]
  },
  {
   "cell_type": "code",
   "execution_count": 75,
   "metadata": {},
   "outputs": [
    {
     "data": {
      "text/plain": [
       "0.9659448838334468"
      ]
     },
     "execution_count": 75,
     "metadata": {},
     "output_type": "execute_result"
    }
   ],
   "source": [
    "knn_final = KNeighborsClassifier(**grid_knn.best_params_)\n",
    "knn_final.fit(x_train, y_train)\n",
    "\n",
    "\n",
    "y_pred_k = knn_final.predict_proba(x_test)[:,1]\n",
    "roc_auc_score(y_test,y_pred_knn)"
   ]
  },
  {
   "cell_type": "markdown",
   "metadata": {},
   "source": [
    "Deep Neural Network"
   ]
  },
  {
   "cell_type": "code",
   "execution_count": 40,
   "metadata": {},
   "outputs": [],
   "source": [
    "# Neural Network \n",
    "def neural_net():\n",
    "    model = Sequential()\n",
    "    model.add(Dense(40, input_dim = 54, kernel_initializer='normal', activation = 'relu'))\n",
    "    model.add(Dense(30, kernel_initializer= 'normal',activation = 'relu'))\n",
    "    model.add(Dense(10, kernel_initializer= 'normal',activation = 'relu'))\n",
    "    model.add(Dense(1, kernel_initializer='normal', activation='sigmoid'))\n",
    "    model.compile(loss='binary_crossentropy', optimizer='adam', metrics= ['accuracy'])\n",
    "    return model\n",
    "\n"
   ]
  },
  {
   "cell_type": "code",
   "execution_count": 41,
   "metadata": {},
   "outputs": [
    {
     "name": "stdout",
     "output_type": "stream",
     "text": [
      "WARNING:tensorflow:From C:\\Users\\Batool Fatima\\Anaconda3\\lib\\site-packages\\keras\\backend\\tensorflow_backend.py:74: The name tf.get_default_graph is deprecated. Please use tf.compat.v1.get_default_graph instead.\n",
      "\n",
      "WARNING:tensorflow:From C:\\Users\\Batool Fatima\\Anaconda3\\lib\\site-packages\\keras\\backend\\tensorflow_backend.py:517: The name tf.placeholder is deprecated. Please use tf.compat.v1.placeholder instead.\n",
      "\n",
      "WARNING:tensorflow:From C:\\Users\\Batool Fatima\\Anaconda3\\lib\\site-packages\\keras\\backend\\tensorflow_backend.py:4115: The name tf.random_normal is deprecated. Please use tf.random.normal instead.\n",
      "\n",
      "WARNING:tensorflow:From C:\\Users\\Batool Fatima\\Anaconda3\\lib\\site-packages\\keras\\optimizers.py:790: The name tf.train.Optimizer is deprecated. Please use tf.compat.v1.train.Optimizer instead.\n",
      "\n",
      "WARNING:tensorflow:From C:\\Users\\Batool Fatima\\Anaconda3\\lib\\site-packages\\keras\\backend\\tensorflow_backend.py:3376: The name tf.log is deprecated. Please use tf.math.log instead.\n",
      "\n",
      "WARNING:tensorflow:From C:\\Users\\Batool Fatima\\Anaconda3\\lib\\site-packages\\tensorflow\\python\\ops\\nn_impl.py:180: add_dispatch_support.<locals>.wrapper (from tensorflow.python.ops.array_ops) is deprecated and will be removed in a future version.\n",
      "Instructions for updating:\n",
      "Use tf.where in 2.0, which has the same broadcast rule as np.where\n",
      "WARNING:tensorflow:From C:\\Users\\Batool Fatima\\Anaconda3\\lib\\site-packages\\keras\\backend\\tensorflow_backend.py:986: The name tf.assign_add is deprecated. Please use tf.compat.v1.assign_add instead.\n",
      "\n"
     ]
    },
    {
     "data": {
      "text/plain": [
       "<keras.callbacks.History at 0x1c0f41ebf98>"
      ]
     },
     "execution_count": 41,
     "metadata": {},
     "output_type": "execute_result"
    }
   ],
   "source": [
    "neural_net = KerasRegressor(build_fn = neural_net, epochs = 100, batch_size = 100, verbose = 0)\n",
    "neural_net.fit(x_train, y_train)"
   ]
  },
  {
   "cell_type": "code",
   "execution_count": 43,
   "metadata": {},
   "outputs": [
    {
     "data": {
      "text/plain": [
       "0.973989652142145"
      ]
     },
     "execution_count": 43,
     "metadata": {},
     "output_type": "execute_result"
    }
   ],
   "source": [
    "y_pred_net = neural_net.predict(x_test)\n",
    "\n",
    "roc_auc_score(y_test,y_pred_net)"
   ]
  },
  {
   "cell_type": "markdown",
   "metadata": {},
   "source": [
    "Ensemble Method: Random Forest"
   ]
  },
  {
   "cell_type": "code",
   "execution_count": 72,
   "metadata": {},
   "outputs": [
    {
     "data": {
      "text/plain": [
       "RandomForestRegressor(bootstrap=True, criterion='mse', max_depth=None,\n",
       "                      max_features='auto', max_leaf_nodes=None,\n",
       "                      min_impurity_decrease=0.0, min_impurity_split=None,\n",
       "                      min_samples_leaf=1, min_samples_split=2,\n",
       "                      min_weight_fraction_leaf=0.0, n_estimators=100,\n",
       "                      n_jobs=None, oob_score=False, random_state=0, verbose=0,\n",
       "                      warm_start=False)"
      ]
     },
     "execution_count": 72,
     "metadata": {},
     "output_type": "execute_result"
    }
   ],
   "source": [
    "from sklearn.ensemble import RandomForestRegressor \n",
    "  \n",
    "spam_log = spam_data.copy()\n",
    "spam_log.drop(columns = ['word_freq_direct','word_freq_415','word_freq_telnet'], inplace = True)\n",
    "spam_data_y = spam_log.iloc[:,54].values\n",
    "spam_data_x = spam_log.iloc[:,0:54].values\n",
    "x_train,x_test,y_train,y_test = train_test_split(spam_data_x, spam_data_y, test_size = 0.2, \n",
    "                                                 random_state = 123,stratify = spam_data_y)\n",
    "normalise = StandardScaler()\n",
    "normalise.fit(x_train)\n",
    "x_train = normalise.transform(x_train)\n",
    "x_test = normalise.transform(x_test)\n",
    "\n",
    " # create regressor object \n",
    "regressor = RandomForestRegressor(n_estimators = 100, random_state = 0) \n",
    "  \n",
    "# fit the regressor with x and y data \n",
    "regressor.fit(x_train, y_train) "
   ]
  },
  {
   "cell_type": "code",
   "execution_count": 46,
   "metadata": {},
   "outputs": [
    {
     "data": {
      "text/plain": [
       "0.9748264660288121"
      ]
     },
     "execution_count": 46,
     "metadata": {},
     "output_type": "execute_result"
    }
   ],
   "source": [
    "from sklearn.metrics import roc_auc_score\n",
    "\n",
    "y_pred = regressor.predict(x_test)\n",
    "roc_auc_score(y_test, y_pred)"
   ]
  },
  {
   "cell_type": "markdown",
   "metadata": {},
   "source": [
    "For this part of the problem, we define a function that gives a misclassification cost for every predictive model"
   ]
  },
  {
   "cell_type": "code",
   "execution_count": 49,
   "metadata": {},
   "outputs": [],
   "source": [
    "def misclass_cost(y_test, y_pred):\n",
    "    diff = y_test - y_pred\n",
    "    cost = np.where(diff == 1, 1, np.where(diff == -1, 10, 0))\n",
    "    return np.sum(cost) * -1\n",
    "\n",
    "from sklearn.metrics.scorer import make_scorer\n",
    "\n",
    "cost_func = make_scorer(misclass_cost, greater_is_better=False)"
   ]
  },
  {
   "cell_type": "markdown",
   "metadata": {},
   "source": [
    "Decision Tree"
   ]
  },
  {
   "cell_type": "markdown",
   "metadata": {},
   "source": [
    "For every model, I used the defined function and compare the misclassification cost with other models to see which one\n",
    "optimizes or has a lower cost when predicting emails as spam or not spam"
   ]
  },
  {
   "cell_type": "code",
   "execution_count": 50,
   "metadata": {},
   "outputs": [
    {
     "data": {
      "text/plain": [
       "{'max_depth': 1, 'min_samples_leaf': 10}"
      ]
     },
     "execution_count": 50,
     "metadata": {},
     "output_type": "execute_result"
    }
   ],
   "source": [
    "grid_dt=GridSearchCV(tree,param_grid=depth , cv=4, scoring= cost_func)\n",
    "grid_dt.fit(x_train,y_train) \n",
    "dt_result =pd.DataFrame(grid_dt.cv_results_)\n",
    "grid_dt.best_params_"
   ]
  },
  {
   "cell_type": "code",
   "execution_count": 68,
   "metadata": {},
   "outputs": [
    {
     "data": {
      "text/plain": [
       "-138"
      ]
     },
     "execution_count": 68,
     "metadata": {},
     "output_type": "execute_result"
    }
   ],
   "source": [
    "roc_auc_score(y_test,y_pred_dt)\n",
    "misclass_cost(y_test, y_pred_dt)"
   ]
  },
  {
   "cell_type": "code",
   "execution_count": 69,
   "metadata": {},
   "outputs": [
    {
     "data": {
      "text/plain": [
       "array([[528,  30],\n",
       "       [ 59, 304]], dtype=int64)"
      ]
     },
     "execution_count": 69,
     "metadata": {},
     "output_type": "execute_result"
    }
   ],
   "source": [
    "from sklearn.metrics import confusion_matrix\n",
    "y_pred_dt = dec_tree.predict(x_test)\n",
    "confusion_matrix(y_test, y_pred_dt)"
   ]
  },
  {
   "cell_type": "markdown",
   "metadata": {},
   "source": [
    "Logistic Regression"
   ]
  },
  {
   "cell_type": "code",
   "execution_count": 51,
   "metadata": {},
   "outputs": [
    {
     "data": {
      "text/plain": [
       "{'C': 0.001}"
      ]
     },
     "execution_count": 51,
     "metadata": {},
     "output_type": "execute_result"
    }
   ],
   "source": [
    "grid_log=GridSearchCV(log,param_grid=c_vals , cv=4, scoring= cost_func)\n",
    "grid_log.fit(x_train,y_train) \n",
    "log_result =pd.DataFrame(grid_log.cv_results_)\n",
    "grid_log.best_params_"
   ]
  },
  {
   "cell_type": "code",
   "execution_count": 60,
   "metadata": {},
   "outputs": [
    {
     "data": {
      "text/plain": [
       "-291"
      ]
     },
     "execution_count": 60,
     "metadata": {},
     "output_type": "execute_result"
    }
   ],
   "source": [
    "roc_auc_score(y_test,y_pred_logistic)\n",
    "misclass_cost(y_test, y_pred_logistic)"
   ]
  },
  {
   "cell_type": "code",
   "execution_count": 59,
   "metadata": {},
   "outputs": [
    {
     "data": {
      "text/plain": [
       "array([[533,  25],\n",
       "       [ 41, 322]], dtype=int64)"
      ]
     },
     "execution_count": 59,
     "metadata": {},
     "output_type": "execute_result"
    }
   ],
   "source": [
    "from sklearn.metrics import confusion_matrix\n",
    "y_pred_logistic = finallog.predict(x_test)\n",
    "confusion_matrix(y_test, y_pred_logistic)"
   ]
  },
  {
   "cell_type": "markdown",
   "metadata": {},
   "source": [
    "KNN"
   ]
  },
  {
   "cell_type": "code",
   "execution_count": 54,
   "metadata": {},
   "outputs": [
    {
     "data": {
      "text/plain": [
       "GridSearchCV(cv=4, error_score='raise-deprecating',\n",
       "             estimator=KNeighborsClassifier(algorithm='auto', leaf_size=30,\n",
       "                                            metric='minkowski',\n",
       "                                            metric_params=None, n_jobs=None,\n",
       "                                            n_neighbors=5, p=2,\n",
       "                                            weights='uniform'),\n",
       "             iid='warn', n_jobs=None,\n",
       "             param_grid={'n_neighbors': [1, 2, 3, 4, 5, 6, 7, 8, 9, 10, 11, 12,\n",
       "                                         13, 14, 15, 16, 17, 18, 19, 20, 21, 22,\n",
       "                                         23, 24, 25, 26, 27, 28, 29, 30],\n",
       "                         'weights': ['uniform', 'distance']},\n",
       "             pre_dispatch='2*n_jobs', refit=True, return_train_score=False,\n",
       "             scoring=make_scorer(misclass_cost, greater_is_better=False),\n",
       "             verbose=0)"
      ]
     },
     "execution_count": 54,
     "metadata": {},
     "output_type": "execute_result"
    }
   ],
   "source": [
    "grid_knn = GridSearchCV(knn, param_grid, cv = 4, scoring = cost_func)\n",
    "grid_knn.fit(x_train,y_train)"
   ]
  },
  {
   "cell_type": "code",
   "execution_count": 55,
   "metadata": {},
   "outputs": [
    {
     "data": {
      "text/plain": [
       "-49"
      ]
     },
     "execution_count": 55,
     "metadata": {},
     "output_type": "execute_result"
    }
   ],
   "source": [
    "roc_auc_score(y_test,y_pred_knn)\n",
    "misclass_cost(y_test, y_pred_knn)"
   ]
  },
  {
   "cell_type": "code",
   "execution_count": 70,
   "metadata": {},
   "outputs": [
    {
     "data": {
      "text/plain": [
       "array([[529,  29],\n",
       "       [ 43, 320]], dtype=int64)"
      ]
     },
     "execution_count": 70,
     "metadata": {},
     "output_type": "execute_result"
    }
   ],
   "source": [
    "from sklearn.metrics import confusion_matrix\n",
    "y_pred_k = knn_final.predict(x_test)\n",
    "confusion_matrix(y_test, y_pred_k)"
   ]
  },
  {
   "cell_type": "markdown",
   "metadata": {},
   "source": [
    "Neural Network"
   ]
  },
  {
   "cell_type": "code",
   "execution_count": 53,
   "metadata": {},
   "outputs": [
    {
     "data": {
      "text/plain": [
       "-32"
      ]
     },
     "execution_count": 53,
     "metadata": {},
     "output_type": "execute_result"
    }
   ],
   "source": [
    "y_pred_net = neural_net.predict(x_test)\n",
    "\n",
    "roc_auc_score(y_test,y_pred_net)\n",
    "misclass_cost(y_test, y_pred_net)"
   ]
  },
  {
   "cell_type": "markdown",
   "metadata": {},
   "source": [
    "Given the above misclassification cost function, we have the following costs for each model:\n",
    "- Decision Tree (-138)\n",
    "- Logistic Regression (-291)\n",
    "- KNN (-49)\n",
    "- Neural Network (-32)\n",
    "\n",
    "We can see from the information above that Neural Network has the lowest misclassification cost, which would be a better choice \n",
    "in reducing cost and thus, consistent with the given business requirement of classifying spam and non spam emails."
   ]
  }
 ],
 "metadata": {
  "kernelspec": {
   "display_name": "Python 3",
   "language": "python",
   "name": "python3"
  },
  "language_info": {
   "codemirror_mode": {
    "name": "ipython",
    "version": 3
   },
   "file_extension": ".py",
   "mimetype": "text/x-python",
   "name": "python",
   "nbconvert_exporter": "python",
   "pygments_lexer": "ipython3",
   "version": "3.7.3"
  }
 },
 "nbformat": 4,
 "nbformat_minor": 2
}
